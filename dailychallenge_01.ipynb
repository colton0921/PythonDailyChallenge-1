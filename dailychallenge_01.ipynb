{
 "metadata": {
  "language_info": {
   "codemirror_mode": {
    "name": "ipython",
    "version": 3
   },
   "file_extension": ".py",
   "mimetype": "text/x-python",
   "name": "python",
   "nbconvert_exporter": "python",
   "pygments_lexer": "ipython3",
   "version": "3.7.6-final"
  },
  "orig_nbformat": 2,
  "kernelspec": {
   "name": "python3",
   "display_name": "Python 3",
   "language": "python"
  }
 },
 "nbformat": 4,
 "nbformat_minor": 2,
 "cells": [
  {
   "cell_type": "code",
   "execution_count": 1,
   "metadata": {},
   "outputs": [
    {
     "output_type": "execute_result",
     "data": {
      "text/plain": [
       "'bcf'"
      ]
     },
     "metadata": {},
     "execution_count": 1
    }
   ],
   "source": [
    "import string\n",
    "up = string.ascii_uppercase\n",
    "punc = string.punctuation\n",
    "def clean_string(s): \n",
    "    for i in s:\n",
    "        if i in up: \n",
    "            s=s.replace(i,'')\n",
    "        elif i in punc: \n",
    "            s=s.replace(i,'')\n",
    "        else: \n",
    "            continue\n",
    "    return s \n",
    "    \n",
    "s = 'Abc!!Ef'\n",
    "clean_string(s)"
   ]
  },
  {
   "cell_type": "code",
   "execution_count": null,
   "metadata": {},
   "outputs": [],
   "source": []
  }
 ]
}